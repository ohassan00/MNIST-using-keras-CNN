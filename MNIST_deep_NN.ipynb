{
 "cells": [
  {
   "cell_type": "markdown",
   "metadata": {
    "collapsed": true
   },
   "source": [
    "## MNIST deep NN with two hidden layers (100 units, 25 units) and softmax output layer"
   ]
  },
  {
   "cell_type": "code",
   "execution_count": 2,
   "metadata": {},
   "outputs": [
    {
     "name": "stderr",
     "output_type": "stream",
     "text": [
      "Using TensorFlow backend.\n"
     ]
    }
   ],
   "source": [
    "import numpy\n",
    "import keras\n",
    "from keras.datasets import mnist\n",
    "from keras.models import Sequential\n",
    "from keras.layers import Dense, Activation, Dropout"
   ]
  },
  {
   "cell_type": "markdown",
   "metadata": {},
   "source": [
    "### Load MNIST Dataset"
   ]
  },
  {
   "cell_type": "code",
   "execution_count": 3,
   "metadata": {
    "collapsed": true
   },
   "outputs": [],
   "source": [
    "(X_train, y_train), (X_test, y_test) = mnist.load_data()"
   ]
  },
  {
   "cell_type": "code",
   "execution_count": 4,
   "metadata": {
    "collapsed": true
   },
   "outputs": [],
   "source": [
    "# flatten input images to from (m, 28, 28) to (m, 784)\n",
    "num_pixels = X_train.shape[1] * X_train.shape[2]\n",
    "X_train = X_train.reshape(X_train.shape[0], -1).astype('float32')\n",
    "X_test = X_test.reshape(X_test.shape[0], -1).astype('float32')"
   ]
  },
  {
   "cell_type": "code",
   "execution_count": 5,
   "metadata": {
    "collapsed": true
   },
   "outputs": [],
   "source": [
    "# one-hot-encoding of the outputs\n",
    "y_train = keras.utils.to_categorical(y_train, num_classes=10)\n",
    "y_test = keras.utils.to_categorical(y_test, num_classes=10)"
   ]
  },
  {
   "cell_type": "code",
   "execution_count": 6,
   "metadata": {
    "collapsed": true
   },
   "outputs": [],
   "source": [
    "# Normalize input pixels from 0-255 to 0-1\n",
    "X_train /= 255\n",
    "X_test /= 255 "
   ]
  },
  {
   "cell_type": "code",
   "execution_count": 14,
   "metadata": {},
   "outputs": [
    {
     "name": "stdout",
     "output_type": "stream",
     "text": [
      "Epoch 1/60\n",
      "1s - loss: 0.7070 - acc: 0.7856\n",
      "Epoch 2/60\n",
      "1s - loss: 0.3357 - acc: 0.9036\n",
      "Epoch 3/60\n",
      "1s - loss: 0.2644 - acc: 0.9223\n",
      "Epoch 4/60\n",
      "1s - loss: 0.2309 - acc: 0.9332\n",
      "Epoch 5/60\n",
      "1s - loss: 0.2021 - acc: 0.9415\n",
      "Epoch 6/60\n",
      "1s - loss: 0.1852 - acc: 0.9452\n",
      "Epoch 7/60\n",
      "1s - loss: 0.1718 - acc: 0.9500\n",
      "Epoch 8/60\n",
      "1s - loss: 0.1636 - acc: 0.9521\n",
      "Epoch 9/60\n",
      "1s - loss: 0.1492 - acc: 0.9554\n",
      "Epoch 10/60\n",
      "1s - loss: 0.1434 - acc: 0.9567\n",
      "Epoch 11/60\n",
      "1s - loss: 0.1371 - acc: 0.9592\n",
      "Epoch 12/60\n",
      "1s - loss: 0.1363 - acc: 0.9600\n",
      "Epoch 13/60\n",
      "1s - loss: 0.1289 - acc: 0.9621\n",
      "Epoch 14/60\n",
      "1s - loss: 0.1218 - acc: 0.9630\n",
      "Epoch 15/60\n",
      "1s - loss: 0.1195 - acc: 0.9633\n",
      "Epoch 16/60\n",
      "1s - loss: 0.1152 - acc: 0.9652\n",
      "Epoch 17/60\n",
      "1s - loss: 0.1155 - acc: 0.9648\n",
      "Epoch 18/60\n",
      "1s - loss: 0.1112 - acc: 0.9652\n",
      "Epoch 19/60\n",
      "1s - loss: 0.1070 - acc: 0.9671\n",
      "Epoch 20/60\n",
      "1s - loss: 0.1068 - acc: 0.9671\n",
      "Epoch 21/60\n",
      "1s - loss: 0.1032 - acc: 0.9683\n",
      "Epoch 22/60\n",
      "1s - loss: 0.0981 - acc: 0.9691\n",
      "Epoch 23/60\n",
      "1s - loss: 0.1008 - acc: 0.9680\n",
      "Epoch 24/60\n",
      "1s - loss: 0.0975 - acc: 0.9693\n",
      "Epoch 25/60\n",
      "1s - loss: 0.0985 - acc: 0.9696\n",
      "Epoch 26/60\n",
      "1s - loss: 0.0955 - acc: 0.9696\n",
      "Epoch 27/60\n",
      "1s - loss: 0.0907 - acc: 0.9712\n",
      "Epoch 28/60\n",
      "1s - loss: 0.0931 - acc: 0.9709\n",
      "Epoch 29/60\n",
      "1s - loss: 0.0879 - acc: 0.9730\n",
      "Epoch 30/60\n",
      "1s - loss: 0.0896 - acc: 0.9715\n",
      "Epoch 31/60\n",
      "1s - loss: 0.0879 - acc: 0.9718\n",
      "Epoch 32/60\n",
      "1s - loss: 0.0854 - acc: 0.9732\n",
      "Epoch 33/60\n",
      "1s - loss: 0.0854 - acc: 0.9728\n",
      "Epoch 34/60\n",
      "1s - loss: 0.0824 - acc: 0.9732\n",
      "Epoch 35/60\n",
      "1s - loss: 0.0845 - acc: 0.9727\n",
      "Epoch 36/60\n",
      "1s - loss: 0.0820 - acc: 0.9736\n",
      "Epoch 37/60\n",
      "1s - loss: 0.0797 - acc: 0.9744\n",
      "Epoch 38/60\n",
      "1s - loss: 0.0812 - acc: 0.9739\n",
      "Epoch 39/60\n",
      "1s - loss: 0.0798 - acc: 0.9747\n",
      "Epoch 40/60\n",
      "1s - loss: 0.0797 - acc: 0.9741\n",
      "Epoch 41/60\n",
      "1s - loss: 0.0754 - acc: 0.9762\n",
      "Epoch 42/60\n",
      "1s - loss: 0.0769 - acc: 0.9752\n",
      "Epoch 43/60\n",
      "1s - loss: 0.0753 - acc: 0.9765\n",
      "Epoch 44/60\n",
      "1s - loss: 0.0769 - acc: 0.9762\n",
      "Epoch 45/60\n",
      "1s - loss: 0.0709 - acc: 0.9773\n",
      "Epoch 46/60\n",
      "1s - loss: 0.0752 - acc: 0.9757\n",
      "Epoch 47/60\n",
      "1s - loss: 0.0717 - acc: 0.9771\n",
      "Epoch 48/60\n",
      "1s - loss: 0.0726 - acc: 0.9762\n",
      "Epoch 49/60\n",
      "1s - loss: 0.0737 - acc: 0.9765\n",
      "Epoch 50/60\n",
      "1s - loss: 0.0713 - acc: 0.9769\n",
      "Epoch 51/60\n",
      "1s - loss: 0.0689 - acc: 0.9773\n",
      "Epoch 52/60\n",
      "1s - loss: 0.0737 - acc: 0.9765\n",
      "Epoch 53/60\n",
      "1s - loss: 0.0680 - acc: 0.9777\n",
      "Epoch 54/60\n",
      "1s - loss: 0.0681 - acc: 0.9774\n",
      "Epoch 55/60\n",
      "1s - loss: 0.0666 - acc: 0.9788\n",
      "Epoch 56/60\n",
      "1s - loss: 0.0659 - acc: 0.9787\n",
      "Epoch 57/60\n",
      "1s - loss: 0.0643 - acc: 0.9794\n",
      "Epoch 58/60\n",
      "1s - loss: 0.0681 - acc: 0.9783\n",
      "Epoch 59/60\n",
      "1s - loss: 0.0640 - acc: 0.9792\n",
      "Epoch 60/60\n",
      "1s - loss: 0.0668 - acc: 0.9783\n"
     ]
    },
    {
     "data": {
      "text/plain": [
       "<keras.callbacks.History at 0x7fee4bb2e630>"
      ]
     },
     "execution_count": 14,
     "metadata": {},
     "output_type": "execute_result"
    }
   ],
   "source": [
    "numpy.random.seed(1)\n",
    "\n",
    "# Build model\n",
    "model_3 = Sequential()\n",
    "# 1st hidden layer\n",
    "model_3.add(Dense(150, activation='relu', \n",
    "                input_dim=num_pixels, \n",
    "                kernel_initializer='VarianceScaling',))\n",
    "model_3.add(Dropout(0.5))\n",
    "\n",
    "# 2nd hidden layer\n",
    "model_3.add(Dense(25, activation='relu', \n",
    "                kernel_initializer='VarianceScaling',))\n",
    "model_3.add(Dropout(0.1))\n",
    "\n",
    "# output layer\n",
    "model_3.add(Dense(10, activation='softmax'))\n",
    "\n",
    "# configure learning process\n",
    "model_3.compile(optimizer='Adam',\n",
    "             loss='categorical_crossentropy',\n",
    "             metrics=['accuracy'])\n",
    "\n",
    "# train model\n",
    "model_3.fit(X_train, y_train, \n",
    "         epochs=60,\n",
    "         batch_size=256, verbose=2)"
   ]
  },
  {
   "cell_type": "code",
   "execution_count": 15,
   "metadata": {},
   "outputs": [
    {
     "name": "stdout",
     "output_type": "stream",
     "text": [
      " 7680/10000 [======================>.......] - ETA: 0sTest set accuracy: 98.02%\n"
     ]
    }
   ],
   "source": [
    "# evaluate model\n",
    "score = model_3.evaluate(X_test, y_test, batch_size=256)\n",
    "print(\"Test set accuracy: %.2f%%\" % (score[1]*100))"
   ]
  },
  {
   "cell_type": "code",
   "execution_count": null,
   "metadata": {
    "collapsed": true
   },
   "outputs": [],
   "source": []
  }
 ],
 "metadata": {
  "kernelspec": {
   "display_name": "Python 3",
   "language": "python",
   "name": "python3"
  },
  "language_info": {
   "codemirror_mode": {
    "name": "ipython",
    "version": 3
   },
   "file_extension": ".py",
   "mimetype": "text/x-python",
   "name": "python",
   "nbconvert_exporter": "python",
   "pygments_lexer": "ipython3",
   "version": "3.6.0"
  }
 },
 "nbformat": 4,
 "nbformat_minor": 1
}
